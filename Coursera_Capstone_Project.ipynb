{
 "cells": [
  {
   "cell_type": "markdown",
   "metadata": {},
   "source": [
    "# In which neighborhood can I live in Gaziantep?\n",
    "### Author: Servet Demir"
   ]
  },
  {
   "cell_type": "markdown",
   "metadata": {},
   "source": [
    "# 1.Introduction"
   ]
  },
  {
   "cell_type": "markdown",
   "metadata": {},
   "source": [
    "## 1.1. Description & Disscusion of the Background"
   ]
  },
  {
   "cell_type": "markdown",
   "metadata": {},
   "source": [
    "There are many factors that will determine which neighborhood you want to live in. for example; crowds,  parks, restaurants or cafes affect our choice. For some of us, we would prefer less crowded or near hospitals.\n",
    "Gaziantep is one of the cities famous for its food culture. It is a city that is in the UNESCO cultural heritage at the moment (https://en.unesco.org/creative-cities/gaziantep). Promotional video https://www.youtube.com/watch?v=V5gvWa7PWIM\n",
    "This project will be grouped only by considering the social facilities and population crowds of the central neighborhoods in Gaziantep. Basic features will be determined for each group. It will help the neighborhood preferences that people want to live in."
   ]
  },
  {
   "cell_type": "markdown",
   "metadata": {},
   "source": [
    "## 1.2 Data"
   ]
  },
  {
   "cell_type": "markdown",
   "metadata": {},
   "source": [
    "In this project, we need five types of data;\n",
    "1. Neighborhood list\n",
    "2. The population in each neighborhood\n",
    "3.  The venues in each neighborhood\n",
    "4.  The rent rate (TL/m2) in each neighborhood \n",
    "5. The sales rate (TL/m2) in each neighborhood\n",
    "\n",
    "From a web search,  I got four sources:\n",
    "1. www.nufusu.com/ilce/sehitkamil_gaziantep-nufusu (Neighborhood list and population)\n",
    "2. \"https://www.nufusu.com/ilce/sahinbey_gaziantep-nufusu (Neighborhood list and population)\n",
    "3. Foursquare API for getting venues place in neigborhoods\n",
    "4. https://www.endeksa.com/tr/ (rent rate & sales rate)"
   ]
  },
  {
   "cell_type": "markdown",
   "metadata": {},
   "source": [
    "## 1.3 Methodology"
   ]
  },
  {
   "cell_type": "markdown",
   "metadata": {},
   "source": [
    "In Gaziantep, there 9 boroughs but only two of them (Şahinbey & Şehitkamil) downtown. So that, in this project, I will study these boroughs.  Also, there are villages and I dismiss that from neighborhood list.\n",
    "Then I will get the populations, rent rate, and sales rate for each neighborhood. Then I will get latitudes and longitude of all neighborhoods in order to get the venues.\n",
    "Then I will cluster analysis for neighborhoods. For model features, I will use venue categories, populations, rent rates, and sales rates."
   ]
  },
  {
   "cell_type": "code",
   "execution_count": null,
   "metadata": {},
   "outputs": [],
   "source": []
  }
 ],
 "metadata": {
  "kernelspec": {
   "display_name": "Python 3",
   "language": "python",
   "name": "python3"
  },
  "language_info": {
   "codemirror_mode": {
    "name": "ipython",
    "version": 3
   },
   "file_extension": ".py",
   "mimetype": "text/x-python",
   "name": "python",
   "nbconvert_exporter": "python",
   "pygments_lexer": "ipython3",
   "version": "3.7.4"
  }
 },
 "nbformat": 4,
 "nbformat_minor": 4
}
